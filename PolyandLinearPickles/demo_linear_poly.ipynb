{
 "cells": [
  {
   "cell_type": "code",
   "execution_count": 1,
   "id": "fcdde35e",
   "metadata": {},
   "outputs": [],
   "source": [
    "import pandas as pd\n",
    "import numpy as np"
   ]
  },
  {
   "cell_type": "code",
   "execution_count": 2,
   "id": "5b0dba6e",
   "metadata": {},
   "outputs": [],
   "source": [
    "# Importing libraries\n",
    "import pandas as pd\n",
    "import numpy as np\n",
    "import re\n",
    "import matplotlib.pyplot as plt\n",
    "import seaborn as sns\n",
    "from sklearn.model_selection import train_test_split\n",
    "from sklearn.linear_model import LinearRegression\n",
    "from sklearn.metrics import mean_squared_error, mean_absolute_error, r2_score, mean_absolute_percentage_error, mean_squared_log_error, median_absolute_error, max_error\n",
    "from sklearn.preprocessing import StandardScaler\n",
    "import matplotlib.pyplot as plt\n",
    "import seaborn as sns\n",
    "import math\n",
    "from statsmodels.stats.outliers_influence import variance_inflation_factor # for VIF\n",
    "from sklearn.ensemble import RandomForestRegressor\n",
    "from sklearn.svm import SVR\n",
    "#import xgboost as xgb\n",
    "from sklearn.linear_model import Ridge\n",
    "from sklearn.linear_model import Lasso\n",
    "from sklearn.preprocessing import PolynomialFeatures\n",
    "from sklearn.pipeline import make_pipeline\n",
    "from sklearn.model_selection import GridSearchCV\n",
    "import statsmodels.api as sm\n",
    "import pickle"
   ]
  },
  {
   "cell_type": "code",
   "execution_count": 3,
   "id": "796de5a5",
   "metadata": {},
   "outputs": [
    {
     "name": "stdout",
     "output_type": "stream",
     "text": [
      "Train set shape: (454373, 169) (454373,)\n",
      "Validation set shape: (454373, 169) (454373,)\n",
      "Test set shape: (908747, 169) (908747,)\n"
     ]
    }
   ],
   "source": [
    "data_encoded = pd.read_csv('data_enceoded.csv')\n",
    "from sklearn.model_selection import train_test_split\n",
    "\n",
    "\n",
    "# Define features (X) and target variable (y)\n",
    "X = data_encoded.drop(columns=['Total Charges', 'Transformed_Charges', 'log_transform_charges', 'Inverse_Charges'])  \n",
    "y = data_encoded['Transformed_Charges']\n",
    "\n",
    "# Split data into train and test sets (50% train, 50% test)\n",
    "X_train, X_test, y_train, y_test = train_test_split(X, y, test_size=0.5, random_state=42)\n",
    "\n",
    "# Split remaining training data into train and validation sets (50% train, 50% validation)\n",
    "X_train, X_val, y_train, y_val = train_test_split(X_train, y_train, test_size=0.5, random_state=42)\n",
    "\n",
    "# Print the shapes of the resulting datasets\n",
    "print(\"Train set shape:\", X_train.shape, y_train.shape)\n",
    "print(\"Validation set shape:\", X_val.shape, y_val.shape)\n",
    "print(\"Test set shape:\", X_test.shape, y_test.shape)"
   ]
  },
  {
   "cell_type": "code",
   "execution_count": 4,
   "id": "cd5fb7fa",
   "metadata": {},
   "outputs": [],
   "source": [
    "def load_model(filename):\n",
    "    with open(filename, 'rb') as file:\n",
    "        model = pickle.load(file)\n",
    "\n",
    "    return model"
   ]
  },
  {
   "cell_type": "code",
   "execution_count": 5,
   "id": "f841dc0a",
   "metadata": {},
   "outputs": [],
   "source": [
    "# Load the linear regression model\n",
    "lnr_model = load_model('Pickle_LR_Model.pkl')\n",
    "lnr_y_pred = lnr_model.predict(X_test)"
   ]
  },
  {
   "cell_type": "code",
   "execution_count": 6,
   "id": "6b9ff97c",
   "metadata": {},
   "outputs": [
    {
     "name": "stdout",
     "output_type": "stream",
     "text": [
      "Mean Squared Error (MSE) of  linear regression: 1619.9389538097746\n",
      "Root Mean Squared Error (RMSE) of linear regression: 40.2484652354568\n",
      "Mean Absolute Error (MAE) of  linear regression: 30.309100060786534\n",
      "Mean Absolute Percentage Error (MAPE) of  linear regression: 160341264394.56747\n",
      "Median Absolute Error (MedAE) of  linear regression: 23.41480957496597\n",
      "R-squared (R²) of linear regression: 0.7591104984758374\n"
     ]
    }
   ],
   "source": [
    "# Calculating evaluation metrics for linear regression\n",
    "mlr_mse = mean_squared_error(y_test, lnr_y_pred)\n",
    "mlr_rmse = mean_squared_error(y_test, lnr_y_pred, squared=False)  # RMSE\n",
    "mlr_mae = mean_absolute_error(y_test, lnr_y_pred)\n",
    "mlr_mape = mean_absolute_percentage_error(y_test, lnr_y_pred)\n",
    "mlr_medae = median_absolute_error(y_test, lnr_y_pred)\n",
    "mlr_r2 = r2_score(y_test, lnr_y_pred)\n",
    "\n",
    "print(\"Mean Squared Error (MSE) of  linear regression:\", mlr_mse)\n",
    "print(\"Root Mean Squared Error (RMSE) of linear regression:\", mlr_rmse)\n",
    "print(\"Mean Absolute Error (MAE) of  linear regression:\", mlr_mae)\n",
    "print(\"Mean Absolute Percentage Error (MAPE) of  linear regression:\", mlr_mape)\n",
    "print(\"Median Absolute Error (MedAE) of  linear regression:\", mlr_medae)\n",
    "print(\"R-squared (R²) of linear regression:\", mlr_r2)"
   ]
  },
  {
   "cell_type": "code",
   "execution_count": 7,
   "id": "b43ea28e",
   "metadata": {},
   "outputs": [
    {
     "name": "stdout",
     "output_type": "stream",
     "text": [
      "Shape of X_train_pca: (454373, 50)\n",
      "Shape of X_val_pca: (454373, 50)\n",
      "Shape of X_test_pca: (908747, 50)\n"
     ]
    }
   ],
   "source": [
    "# Define features (X) and target variable (y)\n",
    "X = data_encoded.drop(columns=['Total Charges', 'Transformed_Charges', 'log_transform_charges', 'Inverse_Charges'])  \n",
    "y = data_encoded['Transformed_Charges']\n",
    "\n",
    "# Split data into train and test sets (50% train, 50% test)\n",
    "X_train, X_test, y_train, y_test = train_test_split(X, y, test_size=0.5, random_state=42)\n",
    "\n",
    "# Split remaining training data into train and validation sets (50% train, 50% validation)\n",
    "X_train, X_val, y_train, y_val = train_test_split(X_train, y_train, test_size=0.5, random_state=42)\n",
    "from sklearn.decomposition import PCA\n",
    "\n",
    "# Define the number of components\n",
    "n_components = 50  # Adjust the number of components as needed\n",
    "\n",
    "# Initialize PCA\n",
    "pca = PCA(n_components=n_components)\n",
    "\n",
    "# Fit PCA on the training data\n",
    "pca.fit(X_train)\n",
    "\n",
    "# Transform the training, validation, and test data\n",
    "X_train_pca = pca.transform(X_train)\n",
    "X_val_pca = pca.transform(X_val)\n",
    "X_test_pca = pca.transform(X_test)\n",
    "\n",
    "# Print the shapes of the transformed datasets\n",
    "print(\"Shape of X_train_pca:\", X_train_pca.shape)\n",
    "print(\"Shape of X_val_pca:\", X_val_pca.shape)\n",
    "print(\"Shape of X_test_pca:\", X_test_pca.shape)"
   ]
  },
  {
   "cell_type": "code",
   "execution_count": 8,
   "id": "c5637878",
   "metadata": {},
   "outputs": [],
   "source": [
    "# Load the Polynomial regression model\n",
    "Poly = load_model('Pickle_Poly_Model.pkl')\n",
    "poly_y_pred = Poly.predict(X_test_pca)"
   ]
  },
  {
   "cell_type": "code",
   "execution_count": 9,
   "id": "d7d7bb9a",
   "metadata": {},
   "outputs": [
    {
     "name": "stdout",
     "output_type": "stream",
     "text": [
      "Mean Squared Error (MSE) of  polynomial regression: 1138.6319724288792\n",
      "Root Mean Squared Error (RMSE) of polynomial regression: 33.74362121096192\n",
      "Mean Absolute Error (MAE) of  polynomial regression: 24.995253729806915\n",
      "Mean Absolute Percentage Error (MAPE) of  polynomial regression: 138494840887.51428\n",
      "Median Absolute Error (MedAE) of  polynomial regression: 18.567591660709667\n",
      "R-squared (R²) of polynomial regression: 0.830682207120951\n"
     ]
    }
   ],
   "source": [
    "# Calculating evaluation metrics for polynomial regression\n",
    "plr_mse = mean_squared_error(y_test, poly_y_pred)\n",
    "plr_rmse = mean_squared_error(y_test, poly_y_pred, squared=False)  # RMSE\n",
    "plr_mae = mean_absolute_error(y_test, poly_y_pred)\n",
    "plr_mape = mean_absolute_percentage_error(y_test, poly_y_pred)\n",
    "plr_medae = median_absolute_error(y_test, poly_y_pred)\n",
    "plr_r2 = r2_score(y_test, poly_y_pred)\n",
    "\n",
    "print(\"Mean Squared Error (MSE) of  polynomial regression:\", plr_mse)\n",
    "print(\"Root Mean Squared Error (RMSE) of polynomial regression:\", plr_rmse)\n",
    "print(\"Mean Absolute Error (MAE) of  polynomial regression:\", plr_mae)\n",
    "print(\"Mean Absolute Percentage Error (MAPE) of  polynomial regression:\", plr_mape)\n",
    "print(\"Median Absolute Error (MedAE) of  polynomial regression:\", plr_medae)\n",
    "print(\"R-squared (R²) of polynomial regression:\", plr_r2)"
   ]
  },
  {
   "cell_type": "code",
   "execution_count": null,
   "id": "21493824",
   "metadata": {},
   "outputs": [],
   "source": []
  }
 ],
 "metadata": {
  "kernelspec": {
   "display_name": "Python 3 (ipykernel)",
   "language": "python",
   "name": "python3"
  },
  "language_info": {
   "codemirror_mode": {
    "name": "ipython",
    "version": 3
   },
   "file_extension": ".py",
   "mimetype": "text/x-python",
   "name": "python",
   "nbconvert_exporter": "python",
   "pygments_lexer": "ipython3",
   "version": "3.11.7"
  }
 },
 "nbformat": 4,
 "nbformat_minor": 5
}
